{
 "cells": [
  {
   "cell_type": "markdown",
   "metadata": {},
   "source": [
    "# TP1- Revision sobre los SGBD relacionales"
   ]
  },
  {
   "cell_type": "markdown",
   "metadata": {},
   "source": [
    "Para revisar algunos conceptos de los SGBD relacionales (en particular el modelo relacional y el lenguaje SQL), vamos a crear una pequeña Base de Datos relacional desde un programa en Python y a partir de datos que se encuentran en varios archivos textos.\n",
    "\n",
    "La base de datos que queremos construir está representada por el modelo Entidad-Asociación siguiente:"
   ]
  },
  {
   "cell_type": "markdown",
   "metadata": {},
   "source": [
    "<img src=\"modeloEA-1.png\">"
   ]
  },
  {
   "cell_type": "markdown",
   "metadata": {},
   "source": [
    "## 1. Transformación del Modelo Entidad-Asociación hacia Modelo Relacional\n",
    "\n",
    "Proponer un modelo relacional que corresponde al modelo Entidad-Asociación."
   ]
  },
  {
   "cell_type": "markdown",
   "metadata": {},
   "source": [
    "-Medios_prensa(nombre pk ,dueño,numero_seguidores)\n",
    "-noticias(ID pk ,Texto,Titulo,Fecha,medio_prensa Fk)"
   ]
  },
  {
   "cell_type": "markdown",
   "metadata": {},
   "source": [
    "## 2. Crear la estructura de la base de datos desde un programa Python"
   ]
  },
  {
   "cell_type": "markdown",
   "metadata": {},
   "source": [
    "### 2.1 Conectarse a MySQL desde Python"
   ]
  },
  {
   "cell_type": "code",
   "execution_count": null,
   "metadata": {},
   "outputs": [],
   "source": [
    "import mysql.connector\n",
    "cnx = mysql.connector.connect(user='root', password='familia',host='127.0.0.1', database='taller')"
   ]
  },
  {
   "cell_type": "markdown",
   "metadata": {},
   "source": [
    "### 2.2 Crear las tablas"
   ]
  },
  {
   "cell_type": "code",
   "execution_count": null,
   "metadata": {},
   "outputs": [],
   "source": [
    "Cursor = cnx.cursor();\n",
    "try:\n",
    "    Cursor.execute(\"CREATE TABLE medios_prensa (Nombre varchar(255) NOT NULL,Dueño varchar(255),number_follower int,PRIMARY KEY (Nombre));\")\n",
    "    Cursor.execute(\"CREATE TABLE noticias (ID varchar(255) NOT NULL, titulo varchar(255) NOT NULL,texto varchar(255),fecha datetime, diario varchar(255),PRIMARY KEY (id),FOREING KEY(diario) references medios_prensa(nombre));\")\n",
    "except Exception as excepcion:\n",
    "    print(excepcion)\n"
   ]
  },
  {
   "cell_type": "markdown",
   "metadata": {},
   "source": [
    "# 3. Insertar los datos en la base de datos"
   ]
  },
  {
   "cell_type": "markdown",
   "metadata": {},
   "source": [
    "## 3.1 Leer los archivos textos"
   ]
  },
  {
   "cell_type": "code",
   "execution_count": null,
   "metadata": {},
   "outputs": [],
   "source": [
    "import csv\n",
    "csv_data = csv.reader(open('medios.csv'))"
   ]
  },
  {
   "cell_type": "markdown",
   "metadata": {},
   "source": [
    "## 3.2 Leer los archivos textos y insertar los datos"
   ]
  },
  {
   "cell_type": "code",
   "execution_count": null,
   "metadata": {},
   "outputs": [],
   "source": [
    "Cursor = cnx.cursor();\n",
    "for row in csv_data:\n",
    "    Cursor.execute('INSERT INTO medios_prensa(Nombre,dueño, number_follower)VALUES(\"%s\", \"%s\", \"%s\")', row)\n",
    "print (\"Done\")"
   ]
  },
  {
   "cell_type": "markdown",
   "metadata": {},
   "source": [
    "# 4. Consultar la base de datos"
   ]
  },
  {
   "cell_type": "markdown",
   "metadata": {},
   "source": [
    "Listar los medios de prensa en Chile ordenado según su número de followers en Twitter."
   ]
  },
  {
   "cell_type": "code",
   "execution_count": null,
   "metadata": {},
   "outputs": [],
   "source": [
    "cnx = mysql.connector.connect(user='root', password='familia',host='127.0.0.1', database='taller')\n",
    "Cursor = cnx.cursor();\n",
    "Cursor.execute(\"SELECT * FROM medios_prensa;\")"
   ]
  },
  {
   "cell_type": "markdown",
   "metadata": {},
   "source": [
    "# Contar los dueños de medios de prensa en Chile."
   ]
  },
  {
   "cell_type": "code",
   "execution_count": null,
   "metadata": {},
   "outputs": [],
   "source": [
    "cnx = mysql.connector.connect(user='root', password='familia',host='127.0.0.1', database='taller')\n",
    "Cursor = cnx.cursor();\n",
    "Cursor.execute(\"SELECT count(*) FROM medios_prensa;\")"
   ]
  },
  {
   "cell_type": "markdown",
   "metadata": {},
   "source": [
    "Contar cuantes medios de prensa posee cada dueño."
   ]
  },
  {
   "cell_type": "code",
   "execution_count": null,
   "metadata": {},
   "outputs": [],
   "source": [
    "import mysql.connector\n",
    "cnx = mysql.connector.connect(user='root', password='familia',host='127.0.0.1', database='taller')\n",
    "Cursor = cnx.cursor();\n",
    "Cursor.execute(\"SELECT count  FROM medios_prensa;\")\n",
    "data=Cursor.fetchall()\n",
    "print(data)\n"
   ]
  },
  {
   "cell_type": "markdown",
   "metadata": {},
   "source": [
    "Mostrar los últimos 10 títulos de noticias del medio \"La Tercera\""
   ]
  },
  {
   "cell_type": "code",
   "execution_count": null,
   "metadata": {},
   "outputs": [],
   "source": [
    "..."
   ]
  },
  {
   "cell_type": "markdown",
   "metadata": {},
   "source": [
    "Mostrar los nombre de medios y los títulos en los cuales aparacen la palabra \"Valdivia\"."
   ]
  },
  {
   "cell_type": "code",
   "execution_count": null,
   "metadata": {},
   "outputs": [],
   "source": [
    "..."
   ]
  },
  {
   "cell_type": "markdown",
   "metadata": {},
   "source": [
    "Por cada medio, mostrar el número de títulos en los cuales aparecen la palabra \"Puerto Montt\"."
   ]
  },
  {
   "cell_type": "code",
   "execution_count": null,
   "metadata": {},
   "outputs": [],
   "source": [
    "..."
   ]
  }
 ],
 "metadata": {
  "kernelspec": {
   "display_name": "Python 3",
   "language": "python",
   "name": "python3"
  },
  "language_info": {
   "codemirror_mode": {
    "name": "ipython",
    "version": 3
   },
   "file_extension": ".py",
   "mimetype": "text/x-python",
   "name": "python",
   "nbconvert_exporter": "python",
   "pygments_lexer": "ipython3",
   "version": "3.6.4"
  }
 },
 "nbformat": 4,
 "nbformat_minor": 2
}
