{
 "cells": [
  {
   "cell_type": "markdown",
   "metadata": {},
   "source": [
    "# TP2- Introducción al SGBD MongoDB y Conexión a la API Rest de Twitter"
   ]
  },
  {
   "cell_type": "markdown",
   "metadata": {},
   "source": [
    "En este trabajo práctico queremos descubrir las características del SGBD no relacional MongoDB. En este sentido, vamos a desarrollar un script que se conecta a la API Rest de Twitter para: 1) descargar datos al formato JSON, 2) almacenarlos en una base Mongo y 3) realizar algunas consultas sobre los datos."
   ]
  },
  {
   "cell_type": "markdown",
   "metadata": {},
   "source": [
    "## 1. Conectarse a la API Rest de Twitter"
   ]
  },
  {
   "cell_type": "markdown",
   "metadata": {},
   "source": [
    "- ¿Cómo crear una aplicación utilizando los datos de Twitter?: https://developer.twitter.com/en/docs/basics/getting-started\n",
    "- Crear una aplicación utilizando los datos de Twitter: https://apps.twitter.com/\n",
    "- ¿Qué deberían saber todos los desarrolladores antes de jugar con la API de twitter?: https://developer.twitter.com/en/docs/basics/things-every-developer-should-know"
   ]
  },
  {
   "cell_type": "code",
   "execution_count": 1,
   "metadata": {},
   "outputs": [],
   "source": [
    "from twython import Twython\n",
    "twitter = Twython(\"SQwlAvJEHxoE0dW3yi2Iyn5ZD\", \n",
    "                  \"TPDE1a1hIn8AA7vWvmot1mac09be2HdpzdPrnpN8Ga132izSHN\",\n",
    "                  \"75908426-Iddd3R9RwyA582cFEKziw76MViSor9oYYM0TkAgVl\",\n",
    "                  \"UzQ3z2g2OeRRHAuPoFRBqWvPCFEcauwJuFvyyK4rmU4cj\")\n"
   ]
  },
  {
   "cell_type": "markdown",
   "metadata": {},
   "source": [
    "## 2. Consultar la API de Twitter"
   ]
  },
  {
   "cell_type": "markdown",
   "metadata": {},
   "source": [
    "- Utilizando una librería Python que permite enviar consultas HTTP a la API de Twitter, conectarse a un 'endpoint' de la API para leer datos. Ver la lista de los endpoints: https://developer.twitter.com/en/docs/tweets/post-and-engage/overview"
   ]
  },
  {
   "cell_type": "code",
   "execution_count": 25,
   "metadata": {},
   "outputs": [
    {
     "name": "stdout",
     "output_type": "stream",
     "text": [
      "[{'Text': '@jmc_valdivia @LaTiaEvelyn @sebastianpinera  https://t.co/D1CSvkj15Q', 'Date': 'Mon Apr 09 21:21:26 +0000 2018', 'UserName': 'geno auris', 'Location': 'Iquique, Tierra de Campeones'}, {'Text': 'RT @SPesportesnews: Anderson Martins e Valdivia estão à disposição do técnico Aguirre para o Jogo de 5º feira contra o Rosário Central. #Sã…', 'Date': 'Mon Apr 09 21:21:18 +0000 2018', 'UserName': 'Pablo', 'Location': 'Rosario Argentina i'}, {'Text': 'RT @ivancastrounra1: #QueNoSeTePase que Zaira Ochoa Valdivia @ZairaOchoaV ex funcionaria de la Secretaria de Medio Ambiente en Veracruz dur…', 'Date': 'Mon Apr 09 21:20:55 +0000 2018', 'UserName': 'Angel del Señor 💕', 'Location': ''}, {'Text': 'RT @ScienceMarchCL: Hacemos un llamado a ciudadan@s e investigador@s de Iquique, Copiapó, Rancagua, Talca, Temuco, Valdivia, Puerto Montt,…', 'Date': 'Mon Apr 09 21:20:49 +0000 2018', 'UserName': 'Barbara Herrera', 'Location': 'Providencia, Chile'}, {'Text': 'RT @Marcelo_Hazan: São 11 de linha: Militão, Rodrigo Caio, Arboleda, Régis, Reinaldo, Petros, Jucilei, Liziero, Nenê, Valdívia e Tréllez #g…', 'Date': 'Mon Apr 09 21:20:48 +0000 2018', 'UserName': 'independenteteresina', 'Location': ''}, {'Text': '@jmc_valdivia @LaTiaEvelyn @sebastianpinera Jajajajajajaja.. y que suelten a los curas pedófilos.. por qué la gente… https://t.co/EQv1QZhguU', 'Date': 'Mon Apr 09 21:19:43 +0000 2018', 'UserName': 'Matias Muñoz', 'Location': 'desubicado.'}, {'Text': 'Kendall (M. Pedro de Valdivia): Flaquita rica !!!!! Mi colita te dejara loquito !!! Soy muy hermosa !!!! 40.000 la… https://t.co/Jv31ut5R88', 'Date': 'Mon Apr 09 21:18:09 +0000 2018', 'UserName': 'PlanetaEscort.cl', 'Location': 'Santiago de Chile'}, {'Text': 'RT @RubenSanchezTW: Pablo cazado https://t.co/689Wof7br9', 'Date': 'Mon Apr 09 21:17:37 +0000 2018', 'UserName': 'Lilith♀', 'Location': 'Granada, Andalucía'}, {'Text': 'RT @retioCONCE: Auto detenido en vía pedro de valdivia dirección chiguayante, altura colegio concepcion precaución. —@Isa_Stemberga https:/…', 'Date': 'Mon Apr 09 21:17:37 +0000 2018', 'UserName': 'Catalina Senoceain', 'Location': 'Chile'}, {'Text': 'Te vas de viaje?\\nNo sabes donde dejar a tu perro?\\nServicio Dog Sitter, cuidado de mascotas a domicilio\\nConsulta por… https://t.co/Z9KRiQo1KR', 'Date': 'Mon Apr 09 21:17:20 +0000 2018', 'UserName': 'Paseadores Perrunos', 'Location': 'en el sur del mundo, Valdivia'}, {'Text': 'RT @monchelorosas: Para los que no lo saben o Prefieren olvidar. Barroso es Mucho mas Referente que Valdivia, Orión, Insaurralde y varios m…', 'Date': 'Mon Apr 09 21:17:19 +0000 2018', 'UserName': 'Lenon', 'Location': 'En Vivo '}, {'Text': '@thecornetorista A diferença pro meu é segurar de vez o LD, soltar de vez o LE, ao invés de Valdívia na esquerda, u… https://t.co/DRMtXxvd1O', 'Date': 'Mon Apr 09 21:16:17 +0000 2018', 'UserName': 'Luiz FC Almeida', 'Location': ''}, {'Text': 'RT @ElMercurio_cl: En 2017, la Municipalidad de Valdivia recibió 25 denuncias de vecinos por relleno de humedales https://t.co/H60zU87CnH h…', 'Date': 'Mon Apr 09 21:14:59 +0000 2018', 'UserName': 'jose oyarzo', 'Location': ''}, {'Text': '@thecornetorista O time hoje joga em duas linhas, certo? Penso que o ideal para o Aguirre seja: Militão, Arboleda,… https://t.co/PVSfruJyaT', 'Date': 'Mon Apr 09 21:14:39 +0000 2018', 'UserName': 'Luiz FC Almeida', 'Location': ''}]\n"
     ]
    }
   ],
   "source": [
    "results = twitter.search(q='valdivia')\n",
    "tweet=[]\n",
    "for i in range(14): \n",
    "    Text = results[\"statuses\"][i][\"text\"]\n",
    "    Date = results[\"statuses\"][i][\"created_at\"]\n",
    "    UserName=results[\"statuses\"][i][\"user\"][\"name\"]\n",
    "    Location=results[\"statuses\"][i][\"user\"][\"location\"]\n",
    "    Json={\"Text\":Text, \"Date\":Date, \"UserName\":UserName,\"Location\":Location}\n",
    "    tweet.append(Json)\n",
    "\n",
    "\n",
    "\n",
    "\n",
    "print(tweet)"
   ]
  },
  {
   "cell_type": "markdown",
   "metadata": {},
   "source": [
    "## 3. Conectarse al SGBD Mongo"
   ]
  },
  {
   "cell_type": "markdown",
   "metadata": {},
   "source": [
    "- Conectarse a Mongo desde Python utilizando la librería adecuada"
   ]
  },
  {
   "cell_type": "code",
   "execution_count": 5,
   "metadata": {},
   "outputs": [],
   "source": [
    "from pymongo import MongoClient\n",
    "client = MongoClient()\n",
    "client = MongoClient('localhost', 27017)\n",
    "db=client.taller\n",
    "colection=db.dataset\n"
   ]
  },
  {
   "cell_type": "markdown",
   "metadata": {},
   "source": [
    "## 4. Escribir datos de Twitter en una Base de Datos Mongo"
   ]
  },
  {
   "cell_type": "code",
   "execution_count": 27,
   "metadata": {},
   "outputs": [
    {
     "ename": "DuplicateKeyError",
     "evalue": "E11000 duplicate key error collection: taller.posts index: _id_ dup key: { : ObjectId('5acbd9e4a3d4f52687c73aff') }",
     "output_type": "error",
     "traceback": [
      "\u001b[0;31m---------------------------------------------------------------------------\u001b[0m",
      "\u001b[0;31mDuplicateKeyError\u001b[0m                         Traceback (most recent call last)",
      "\u001b[0;32m<ipython-input-27-6ce0fd2a96ed>\u001b[0m in \u001b[0;36m<module>\u001b[0;34m()\u001b[0m\n\u001b[1;32m      2\u001b[0m \u001b[0;32mimport\u001b[0m \u001b[0mpprint\u001b[0m\u001b[0;34m\u001b[0m\u001b[0m\n\u001b[1;32m      3\u001b[0m \u001b[0;32mfor\u001b[0m \u001b[0mx\u001b[0m \u001b[0;32min\u001b[0m \u001b[0mrange\u001b[0m\u001b[0;34m(\u001b[0m\u001b[0;36m14\u001b[0m\u001b[0;34m)\u001b[0m\u001b[0;34m:\u001b[0m\u001b[0;34m\u001b[0m\u001b[0m\n\u001b[0;32m----> 4\u001b[0;31m     \u001b[0mposts\u001b[0m\u001b[0;34m.\u001b[0m\u001b[0minsert_one\u001b[0m\u001b[0;34m(\u001b[0m\u001b[0mtweet\u001b[0m\u001b[0;34m[\u001b[0m\u001b[0mx\u001b[0m\u001b[0;34m]\u001b[0m\u001b[0;34m)\u001b[0m\u001b[0;34m.\u001b[0m\u001b[0minserted_id\u001b[0m\u001b[0;34m\u001b[0m\u001b[0m\n\u001b[0m\u001b[1;32m      5\u001b[0m \u001b[0;34m\u001b[0m\u001b[0m\n",
      "\u001b[0;32m~/anaconda3/lib/python3.6/site-packages/pymongo/collection.py\u001b[0m in \u001b[0;36minsert_one\u001b[0;34m(self, document, bypass_document_validation, session)\u001b[0m\n\u001b[1;32m    681\u001b[0m             self._insert(document,\n\u001b[1;32m    682\u001b[0m                          \u001b[0mbypass_doc_val\u001b[0m\u001b[0;34m=\u001b[0m\u001b[0mbypass_document_validation\u001b[0m\u001b[0;34m,\u001b[0m\u001b[0;34m\u001b[0m\u001b[0m\n\u001b[0;32m--> 683\u001b[0;31m                          session=session),\n\u001b[0m\u001b[1;32m    684\u001b[0m             self.write_concern.acknowledged)\n\u001b[1;32m    685\u001b[0m \u001b[0;34m\u001b[0m\u001b[0m\n",
      "\u001b[0;32m~/anaconda3/lib/python3.6/site-packages/pymongo/collection.py\u001b[0m in \u001b[0;36m_insert\u001b[0;34m(self, docs, ordered, check_keys, manipulate, write_concern, op_id, bypass_doc_val, session)\u001b[0m\n\u001b[1;32m    597\u001b[0m             return self._insert_one(\n\u001b[1;32m    598\u001b[0m                 \u001b[0mdocs\u001b[0m\u001b[0;34m,\u001b[0m \u001b[0mordered\u001b[0m\u001b[0;34m,\u001b[0m \u001b[0mcheck_keys\u001b[0m\u001b[0;34m,\u001b[0m \u001b[0mmanipulate\u001b[0m\u001b[0;34m,\u001b[0m \u001b[0mwrite_concern\u001b[0m\u001b[0;34m,\u001b[0m \u001b[0mop_id\u001b[0m\u001b[0;34m,\u001b[0m\u001b[0;34m\u001b[0m\u001b[0m\n\u001b[0;32m--> 599\u001b[0;31m                 bypass_doc_val, session)\n\u001b[0m\u001b[1;32m    600\u001b[0m \u001b[0;34m\u001b[0m\u001b[0m\n\u001b[1;32m    601\u001b[0m         \u001b[0mids\u001b[0m \u001b[0;34m=\u001b[0m \u001b[0;34m[\u001b[0m\u001b[0;34m]\u001b[0m\u001b[0;34m\u001b[0m\u001b[0m\n",
      "\u001b[0;32m~/anaconda3/lib/python3.6/site-packages/pymongo/collection.py\u001b[0m in \u001b[0;36m_insert_one\u001b[0;34m(self, doc, ordered, check_keys, manipulate, write_concern, op_id, bypass_doc_val, session)\u001b[0m\n\u001b[1;32m    578\u001b[0m             result = self.__database.client._retryable_write(\n\u001b[1;32m    579\u001b[0m                 True, _insert_command, session)\n\u001b[0;32m--> 580\u001b[0;31m             \u001b[0m_check_write_command_response\u001b[0m\u001b[0;34m(\u001b[0m\u001b[0mresult\u001b[0m\u001b[0;34m)\u001b[0m\u001b[0;34m\u001b[0m\u001b[0m\n\u001b[0m\u001b[1;32m    581\u001b[0m         \u001b[0;32melse\u001b[0m\u001b[0;34m:\u001b[0m\u001b[0;34m\u001b[0m\u001b[0m\n\u001b[1;32m    582\u001b[0m             \u001b[0;32mwith\u001b[0m \u001b[0mself\u001b[0m\u001b[0;34m.\u001b[0m\u001b[0m_socket_for_writes\u001b[0m\u001b[0;34m(\u001b[0m\u001b[0;34m)\u001b[0m \u001b[0;32mas\u001b[0m \u001b[0msock_info\u001b[0m\u001b[0;34m:\u001b[0m\u001b[0;34m\u001b[0m\u001b[0m\n",
      "\u001b[0;32m~/anaconda3/lib/python3.6/site-packages/pymongo/helpers.py\u001b[0m in \u001b[0;36m_check_write_command_response\u001b[0;34m(result)\u001b[0m\n\u001b[1;32m    205\u001b[0m     \u001b[0mwrite_errors\u001b[0m \u001b[0;34m=\u001b[0m \u001b[0mresult\u001b[0m\u001b[0;34m.\u001b[0m\u001b[0mget\u001b[0m\u001b[0;34m(\u001b[0m\u001b[0;34m\"writeErrors\"\u001b[0m\u001b[0;34m)\u001b[0m\u001b[0;34m\u001b[0m\u001b[0m\n\u001b[1;32m    206\u001b[0m     \u001b[0;32mif\u001b[0m \u001b[0mwrite_errors\u001b[0m\u001b[0;34m:\u001b[0m\u001b[0;34m\u001b[0m\u001b[0m\n\u001b[0;32m--> 207\u001b[0;31m         \u001b[0m_raise_last_write_error\u001b[0m\u001b[0;34m(\u001b[0m\u001b[0mwrite_errors\u001b[0m\u001b[0;34m)\u001b[0m\u001b[0;34m\u001b[0m\u001b[0m\n\u001b[0m\u001b[1;32m    208\u001b[0m \u001b[0;34m\u001b[0m\u001b[0m\n\u001b[1;32m    209\u001b[0m     \u001b[0merror\u001b[0m \u001b[0;34m=\u001b[0m \u001b[0mresult\u001b[0m\u001b[0;34m.\u001b[0m\u001b[0mget\u001b[0m\u001b[0;34m(\u001b[0m\u001b[0;34m\"writeConcernError\"\u001b[0m\u001b[0;34m)\u001b[0m\u001b[0;34m\u001b[0m\u001b[0m\n",
      "\u001b[0;32m~/anaconda3/lib/python3.6/site-packages/pymongo/helpers.py\u001b[0m in \u001b[0;36m_raise_last_write_error\u001b[0;34m(write_errors)\u001b[0m\n\u001b[1;32m    186\u001b[0m     \u001b[0merror\u001b[0m \u001b[0;34m=\u001b[0m \u001b[0mwrite_errors\u001b[0m\u001b[0;34m[\u001b[0m\u001b[0;34m-\u001b[0m\u001b[0;36m1\u001b[0m\u001b[0;34m]\u001b[0m\u001b[0;34m\u001b[0m\u001b[0m\n\u001b[1;32m    187\u001b[0m     \u001b[0;32mif\u001b[0m \u001b[0merror\u001b[0m\u001b[0;34m.\u001b[0m\u001b[0mget\u001b[0m\u001b[0;34m(\u001b[0m\u001b[0;34m\"code\"\u001b[0m\u001b[0;34m)\u001b[0m \u001b[0;34m==\u001b[0m \u001b[0;36m11000\u001b[0m\u001b[0;34m:\u001b[0m\u001b[0;34m\u001b[0m\u001b[0m\n\u001b[0;32m--> 188\u001b[0;31m         \u001b[0;32mraise\u001b[0m \u001b[0mDuplicateKeyError\u001b[0m\u001b[0;34m(\u001b[0m\u001b[0merror\u001b[0m\u001b[0;34m.\u001b[0m\u001b[0mget\u001b[0m\u001b[0;34m(\u001b[0m\u001b[0;34m\"errmsg\"\u001b[0m\u001b[0;34m)\u001b[0m\u001b[0;34m,\u001b[0m \u001b[0;36m11000\u001b[0m\u001b[0;34m,\u001b[0m \u001b[0merror\u001b[0m\u001b[0;34m)\u001b[0m\u001b[0;34m\u001b[0m\u001b[0m\n\u001b[0m\u001b[1;32m    189\u001b[0m     \u001b[0;32mraise\u001b[0m \u001b[0mWriteError\u001b[0m\u001b[0;34m(\u001b[0m\u001b[0merror\u001b[0m\u001b[0;34m.\u001b[0m\u001b[0mget\u001b[0m\u001b[0;34m(\u001b[0m\u001b[0;34m\"errmsg\"\u001b[0m\u001b[0;34m)\u001b[0m\u001b[0;34m,\u001b[0m \u001b[0merror\u001b[0m\u001b[0;34m.\u001b[0m\u001b[0mget\u001b[0m\u001b[0;34m(\u001b[0m\u001b[0;34m\"code\"\u001b[0m\u001b[0;34m)\u001b[0m\u001b[0;34m,\u001b[0m \u001b[0merror\u001b[0m\u001b[0;34m)\u001b[0m\u001b[0;34m\u001b[0m\u001b[0m\n\u001b[1;32m    190\u001b[0m \u001b[0;34m\u001b[0m\u001b[0m\n",
      "\u001b[0;31mDuplicateKeyError\u001b[0m: E11000 duplicate key error collection: taller.posts index: _id_ dup key: { : ObjectId('5acbd9e4a3d4f52687c73aff') }"
     ]
    }
   ],
   "source": [
    "posts= db.posts\n",
    "import pprint\n",
    "for x in range(14):\n",
    "    posts.insert_one(tweet[x]).inserted_id\n",
    "\n"
   ]
  },
  {
   "cell_type": "code",
   "execution_count": null,
   "metadata": {},
   "outputs": [],
   "source": []
  },
  {
   "cell_type": "code",
   "execution_count": null,
   "metadata": {},
   "outputs": [],
   "source": []
  }
 ],
 "metadata": {
  "kernelspec": {
   "display_name": "Python 3",
   "language": "python",
   "name": "python3"
  },
  "language_info": {
   "codemirror_mode": {
    "name": "ipython",
    "version": 3
   },
   "file_extension": ".py",
   "mimetype": "text/x-python",
   "name": "python",
   "nbconvert_exporter": "python",
   "pygments_lexer": "ipython3",
   "version": "3.6.4"
  }
 },
 "nbformat": 4,
 "nbformat_minor": 2
}
